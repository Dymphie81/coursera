{
 "cells": [
  {
   "cell_type": "markdown",
   "id": "20d607a7-c99a-4a57-80c1-391384b1c3cd",
   "metadata": {},
   "source": [
    "# Data Science Tools and Ecosystem"
   ]
  },
  {
   "cell_type": "markdown",
   "id": "dbb5ff6d-354a-4220-8016-644c0f67dfe7",
   "metadata": {},
   "source": [
    "In this notebook, Data Science Tools and Ecosystem are summarized."
   ]
  },
  {
   "cell_type": "markdown",
   "id": "9e67ff89",
   "metadata": {},
   "source": [
    "_Objectives:_\n",
    "* List popular languages for Data Science\n",
    "* List popular libraries for Data Science\n",
    "* List Data Science tools"
   ]
  },
  {
   "cell_type": "markdown",
   "id": "dba36b83-84a1-4fc4-92fd-fd40d6f52283",
   "metadata": {},
   "source": [
    "Some of the popular languages that Data Scientists use are:\n",
    "\n",
    "1. Python\n",
    "2. R\n",
    "3. Julia\n",
    "4. Java\n",
    "5. SQL\n",
    "6. Scala"
   ]
  },
  {
   "cell_type": "markdown",
   "id": "3dc09783",
   "metadata": {},
   "source": [
    "Some of the commonly used libraries used by Data Scientists include:\n",
    "\n",
    "1. Matplotlib\n",
    "2. NumPy\n",
    "3. Seaborn\n",
    "4. TensorFlow\n",
    "5. SciPy\n",
    "6. Keras"
   ]
  },
  {
   "cell_type": "markdown",
   "id": "2d834ec3",
   "metadata": {},
   "source": [
    "|Data Science Tools|\n",
    "|------------------|\n",
    "|Jupyter Notebook|\n",
    "|Google Colab|\n",
    "|Visual Studio|"
   ]
  },
  {
   "cell_type": "markdown",
   "id": "0a6a47b0",
   "metadata": {},
   "source": [
    "### Below are a few examples of evaluating arithmetic expressions in Python"
   ]
  },
  {
   "cell_type": "code",
   "execution_count": 1,
   "id": "83413256",
   "metadata": {},
   "outputs": [
    {
     "data": {
      "text/plain": [
       "17"
      ]
     },
     "execution_count": 1,
     "metadata": {},
     "output_type": "execute_result"
    }
   ],
   "source": [
    "(3*4) + 5"
   ]
  },
  {
   "cell_type": "code",
   "execution_count": 4,
   "id": "1bd3b5a9",
   "metadata": {},
   "outputs": [
    {
     "data": {
      "text/plain": [
       "3.3333333333333335"
      ]
     },
     "execution_count": 4,
     "metadata": {},
     "output_type": "execute_result"
    }
   ],
   "source": [
    "# This expression converts 200 minutes to hours by dividing by 60 since 60 minutes = 1 hour\n",
    "(200/60)"
   ]
  },
  {
   "cell_type": "markdown",
   "id": "88020fab",
   "metadata": {},
   "source": [
    "## Author\n",
    "Ifunanya Egbuniwe"
   ]
  },
  {
   "cell_type": "code",
   "execution_count": null,
   "id": "f7b686fb",
   "metadata": {},
   "outputs": [],
   "source": []
  }
 ],
 "metadata": {
  "kernelspec": {
   "display_name": "Python 3 (ipykernel)",
   "language": "python",
   "name": "python3"
  },
  "language_info": {
   "codemirror_mode": {
    "name": "ipython",
    "version": 3
   },
   "file_extension": ".py",
   "mimetype": "text/x-python",
   "name": "python",
   "nbconvert_exporter": "python",
   "pygments_lexer": "ipython3",
   "version": "3.11.5"
  }
 },
 "nbformat": 4,
 "nbformat_minor": 5
}
